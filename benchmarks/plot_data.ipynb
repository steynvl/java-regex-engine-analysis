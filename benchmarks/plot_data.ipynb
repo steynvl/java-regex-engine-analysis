{
 "cells": [
  {
   "cell_type": "code",
   "execution_count": null,
   "metadata": {},
   "outputs": [],
   "source": []
  },
  {
   "cell_type": "code",
   "execution_count": 1,
   "metadata": {},
   "outputs": [],
   "source": [
    "import json\n",
    "import os\n",
    "import matplotlib.pyplot as plt\n",
    "import numpy as np\n",
    "from pathlib import Path\n",
    "from typing import List, Dict"
   ]
  },
  {
   "cell_type": "code",
   "execution_count": 2,
   "metadata": {},
   "outputs": [],
   "source": [
    "DATA_DIR = Path(os.path.abspath('') + '/results').resolve()\n",
    "assert DATA_DIR.is_dir()\n",
    "\n",
    "def read_data(data_file: Path) -> List[Dict[str, List[str]]]:\n",
    "    assert data_file.is_file()\n",
    "    with open(data_file, 'r') as f:\n",
    "        return json.load(f)"
   ]
  },
  {
   "cell_type": "code",
   "execution_count": 3,
   "metadata": {},
   "outputs": [],
   "source": [
    "f = Path('{}/results_regexlib_exploit_strings.json'.format(DATA_DIR))\n",
    "regexlib_data = read_data(f)"
   ]
  },
  {
   "cell_type": "code",
   "execution_count": 4,
   "metadata": {},
   "outputs": [],
   "source": [
    "def bar_plot(ax, data, colors=None, total_width=0.8, single_width=1, legend=True):\n",
    "    \"\"\"Draws a bar plot with multiple bars per data point.\n",
    "\n",
    "    Parameters\n",
    "    ----------\n",
    "    ax : matplotlib.pyplot.axis\n",
    "        The axis we want to draw our plot on.\n",
    "\n",
    "    data: dictionary\n",
    "        A dictionary containing the data we want to plot. Keys are the names of the\n",
    "        data, the items is a list of the values.\n",
    "\n",
    "        Example:\n",
    "        data = {\n",
    "            \"x\":[1,2,3],\n",
    "            \"y\":[1,2,3],\n",
    "            \"z\":[1,2,3],\n",
    "        }\n",
    "\n",
    "    colors : array-like, optional\n",
    "        A list of colors which are used for the bars. If None, the colors\n",
    "        will be the standard matplotlib color cyle. (default: None)\n",
    "\n",
    "    total_width : float, optional, default: 0.8\n",
    "        The width of a bar group. 0.8 means that 80% of the x-axis is covered\n",
    "        by bars and 20% will be spaces between the bars.\n",
    "\n",
    "    single_width: float, optional, default: 1\n",
    "        The relative width of a single bar within a group. 1 means the bars\n",
    "        will touch eachother within a group, values less than 1 will make\n",
    "        these bars thinner.\n",
    "\n",
    "    legend: bool, optional, default: True\n",
    "        If this is set to true, a legend will be added to the axis.\n",
    "    \"\"\"\n",
    "\n",
    "    # Check if colors where provided, otherwhise use the default color cycle\n",
    "    if colors is None:\n",
    "        colors = plt.rcParams['axes.prop_cycle'].by_key()['color']\n",
    "\n",
    "    # Number of bars per group\n",
    "    n_bars = len(data)\n",
    "\n",
    "    # The width of a single bar\n",
    "    bar_width = total_width / n_bars\n",
    "\n",
    "    # List containing handles for the drawn bars, used for the legend\n",
    "    bars = []\n",
    "\n",
    "    # Iterate over all data\n",
    "    for i, (name, values) in enumerate(data.items()):\n",
    "        # The offset in x direction of that bar\n",
    "        x_offset = (i - n_bars / 2) * bar_width + bar_width / 2\n",
    "\n",
    "        # Draw a bar for every value of that type\n",
    "        for x, y in enumerate(values):\n",
    "            bar = ax.bar(x + x_offset, y, width=bar_width * single_width, color=colors[i % len(colors)])\n",
    "\n",
    "        # Add a handle to the last drawn bar, which we'll need for the legend\n",
    "        bars.append(bar[0])\n",
    "\n",
    "    # Draw legend if we need\n",
    "    if legend:\n",
    "        ax.legend(bars, ['JDK{}'.format(k) for k in data.keys()])"
   ]
  },
  {
   "cell_type": "code",
   "execution_count": 5,
   "metadata": {},
   "outputs": [
    {
     "name": "stdout",
     "output_type": "stream",
     "text": [
      "JDK11-modified max matching time: 448 ms\n",
      "JDK11 max matching time: 5550 ms\n",
      "JDK9 max matching time: 4131 ms\n",
      "JDK8 max matching time: 7 ms\n"
     ]
    }
   ],
   "source": [
    "x_data = {}\n",
    "\n",
    "for entry in regexlib_data:\n",
    "    for java_version, times in entry.items(): \n",
    "        if java_version not in x_data.keys(): x_data[java_version] = []\n",
    "        tmp = map(lambda s: int(s), filter(lambda t: t.isdigit(), times))\n",
    "        print('JDK{} max matching time: {} ms'.format(java_version, max(tmp)))\n",
    "        data = []\n",
    "        data.append(len(list(filter(lambda s: s.isdigit() and int(s) > 0 and int(s) <= 5, times))))\n",
    "        data.append(len(list(filter(lambda s: s.isdigit() and int(s) > 5 and int(s) <= 10, times))))\n",
    "        data.append(len(list(filter(lambda s: s.isdigit() and int(s) > 10 and int(s) <= 20, times))))\n",
    "        data.append(len(list(filter(lambda s: s.isdigit() and int(s) > 20 and int(s) <= 50, times))))\n",
    "        data.append(len(list(filter(lambda s: s.isdigit() and int(s) > 50 and int(s) <= 100, times))))\n",
    "        data.append(len(list(filter(lambda s: s.isdigit() and int(s) > 100, times))))\n",
    "        data.append(len(list(filter(lambda s: s == 'timeout', times))))\n",
    "        x_data[java_version] = np.array(data)"
   ]
  },
  {
   "cell_type": "code",
   "execution_count": 6,
   "metadata": {},
   "outputs": [
    {
     "data": {
      "image/png": "[encoded data removed]",
      "text/plain": [
       "<Figure size 720x576 with 1 Axes>"
      ]
     },
     "metadata": {},
     "output_type": "display_data"
    }
   ],
   "source": [
    "labels = ['0-5', '5-10', '10-20', '20-50', '50-100', '>100', 'Timeout']\n",
    "\n",
    "fig, ax = plt.subplots(figsize=(10, 8))\n",
    "\n",
    "bar_plot(ax, x_data, total_width=.8, single_width=.9)\n",
    "\n",
    "# Add some text for labels, title and custom x-axis tick labels, etc.\n",
    "ax.set_xlabel('Matching time (ms)')\n",
    "ax.set_ylabel('Number of Regexes')\n",
    "ax.set_title('Average matching time of OpenJDK regex versions on RegExLib dataset')\n",
    "ax.set_xticks(np.arange(len(labels)))\n",
    "ax.set_xticklabels(labels)\n",
    "\n",
    "plt.yscale('log')\n",
    "\n",
    "plt.show()"
   ]
  },
  {
   "cell_type": "code",
   "execution_count": 7,
   "metadata": {},
   "outputs": [],
   "source": [
    "data = []\n",
    "for entry in regexlib_data:\n",
    "    for java_version, times in entry.items():\n",
    "        data.append(list(map(lambda t: 5000 if t == 'timeout' else int(t), times)))"
   ]
  },
  {
   "cell_type": "code",
   "execution_count": 8,
   "metadata": {},
   "outputs": [
    {
     "data": {
      "image/png": "[encoded data removed]",
      "text/plain": [
       "<Figure size 720x576 with 1 Axes>"
      ]
     },
     "metadata": {},
     "output_type": "display_data"
    }
   ],
   "source": [
    "fig = plt.figure(figsize=(10, 8))  \n",
    "  \n",
    "# Creating plot \n",
    "plt.boxplot(data) \n",
    "\n",
    "plt.ylabel('Matching time (ms)')\n",
    "\n",
    "# show plot \n",
    "plt.show() "
   ]
  }
 ],
 "metadata": {
  "kernelspec": {
   "display_name": "Python 3",
   "language": "python",
   "name": "python3"
  },
  "language_info": {
   "codemirror_mode": {
    "name": "ipython",
    "version": 3
   },
   "file_extension": ".py",
   "mimetype": "text/x-python",
   "name": "python",
   "nbconvert_exporter": "python",
   "pygments_lexer": "ipython3",
   "version": "3.6.5"
  }
 },
 "nbformat": 4,
 "nbformat_minor": 2
}
