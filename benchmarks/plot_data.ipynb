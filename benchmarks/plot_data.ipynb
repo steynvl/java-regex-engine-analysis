{
 "cells": [
  {
   "cell_type": "markdown",
   "metadata": {},
   "source": [
    "In this notebook we plot some data regarding matching times and memory usage of different versions of the Java regular expression matcher and our own modified version of the OpenJDK source code. Additionally, we compare different selective memoization policies with respect to state size and execution time. "
   ]
  },
  {
   "cell_type": "code",
   "execution_count": 1,
   "metadata": {},
   "outputs": [],
   "source": [
    "import json\n",
    "import os\n",
    "import matplotlib.pyplot as plt\n",
    "import numpy as np\n",
    "from collections import namedtuple\n",
    "from pathlib import Path\n",
    "from typing import List, Dict"
   ]
  },
  {
   "cell_type": "code",
   "execution_count": 2,
   "metadata": {},
   "outputs": [],
   "source": [
    "DATA_DIR = Path(os.path.abspath('') + '/data').resolve()\n",
    "assert DATA_DIR.is_dir()\n",
    "\n",
    "def read_data(data_file: Path):\n",
    "    assert data_file.is_file()\n",
    "    with open(data_file, 'r') as f:\n",
    "        return json.load(f)"
   ]
  },
  {
   "cell_type": "markdown",
   "metadata": {},
   "source": [
    "## RegExLib dataset"
   ]
  },
  {
   "cell_type": "code",
   "execution_count": 3,
   "metadata": {},
   "outputs": [],
   "source": [
    "REGEXLIB_SESS = Path('{}/regexlib'.format(DATA_DIR))\n",
    "regexlib_analysis = read_data(Path('{}/simple_analysis.json'.format(REGEXLIB_SESS)))"
   ]
  },
  {
   "cell_type": "markdown",
   "metadata": {},
   "source": [
    "## Polyglot corpus"
   ]
  },
  {
   "cell_type": "code",
   "execution_count": 4,
   "metadata": {},
   "outputs": [],
   "source": [
    "POLYGLOT_SESS = Path('{}/polyglot'.format(DATA_DIR))\n",
    "polyglot_analysis = read_data(Path('{}/simple_analysis.json'.format(POLYGLOT_SESS)))"
   ]
  },
  {
   "cell_type": "code",
   "execution_count": 5,
   "metadata": {},
   "outputs": [],
   "source": [
    "labels = ['Parsing Failures', 'Linear', 'EDA', 'IDA', 'Analysis Failures', 'Analysis Timeouts']\n",
    "\n",
    "def sizes(obj):\n",
    "    tk = 'num_simple_analysis_timeout'\n",
    "    return [\n",
    "        np.int(obj['num_parsing_failures']),\n",
    "        np.int(obj['num_cases_linear']),\n",
    "        np.int(obj['num_cases_eda']),\n",
    "        np.int(obj['num_cases_ida']),\n",
    "        np.int(obj['num_simple_analysis_failures']),\n",
    "        np.int(obj[tk]) if tk in obj else 0\n",
    "    ]\n",
    "\n",
    "def percentage(size, count):\n",
    "    return (float(size) / float(count)) * 100\n",
    "\n",
    "def print_table(sizes, labels, dataset):\n",
    "    print('-- {} --'.format(dataset))\n",
    "    count = sum(sizes)\n",
    "    ml = len(max(labels, key=len))\n",
    "    for i, el in enumerate(labels):\n",
    "        print('{}: {}/{} ({:.2f}%)'.format(el.ljust(ml), sizes[i], count, percentage(sizes[i], count)))\n",
    "    print()"
   ]
  },
  {
   "cell_type": "markdown",
   "metadata": {},
   "source": [
    "The tables below tell us how well the simple analysis dealt with the regexes in both the RegExLib and Polyglot datasets. We look at how many regexes are safe and how many contain EDA or IDA."
   ]
  },
  {
   "cell_type": "code",
   "execution_count": 6,
   "metadata": {},
   "outputs": [
    {
     "name": "stdout",
     "output_type": "stream",
     "text": [
      "-- RegExLib --\n",
      "Parsing Failures : 480/2981 (16.10%)\n",
      "Linear           : 1508/2981 (50.59%)\n",
      "EDA              : 105/2981 (3.52%)\n",
      "IDA              : 0/2981 (0.00%)\n",
      "Analysis Failures: 888/2981 (29.79%)\n",
      "Analysis Timeouts: 0/2981 (0.00%)\n",
      "\n",
      "-- Polyglot Corpus --\n",
      "Parsing Failures : 70386/461272 (15.26%)\n",
      "Linear           : 376592/461272 (81.64%)\n",
      "EDA              : 2591/461272 (0.56%)\n",
      "IDA              : 0/461272 (0.00%)\n",
      "Analysis Failures: 10647/461272 (2.31%)\n",
      "Analysis Timeouts: 1056/461272 (0.23%)\n",
      "\n"
     ]
    }
   ],
   "source": [
    "print_table(sizes(regexlib_analysis), labels, 'RegExLib')\n",
    "print_table(sizes(polyglot_analysis), labels, 'Polyglot Corpus')"
   ]
  },
  {
   "cell_type": "code",
   "execution_count": 7,
   "metadata": {},
   "outputs": [],
   "source": [
    "def boxplot(ax, data, xlabels, title, xlabel, ylabel, yscale='linear', showfliers=True):\n",
    "    # Creating plot \n",
    "    ax.boxplot(data, showfliers=showfliers) \n",
    "    \n",
    "    ax.set_xticks(np.arange(1, len(xlabels)+1))\n",
    "    ax.set_xticklabels(xlabels)\n",
    "    \n",
    "    ax.set_xlabel(xlabel)\n",
    "    ax.set_ylabel(ylabel)\n",
    "    ax.set_yscale(yscale)\n",
    "    ax.set_title(title)\n",
    "\n",
    "def bar_plot(ax, data, colors=None, total_width=0.8, single_width=1, legend=True):\n",
    "    # Check if colors where provided, otherwhise use the default color cycle\n",
    "    if colors is None:\n",
    "        colors = plt.rcParams['axes.prop_cycle'].by_key()['color']\n",
    "\n",
    "    # Number of bars per group\n",
    "    n_bars = len(data)\n",
    "\n",
    "    # The width of a single bar\n",
    "    bar_width = total_width / n_bars\n",
    "\n",
    "    # List containing handles for the drawn bars, used for the legend\n",
    "    bars = []\n",
    "\n",
    "    # Iterate over all data\n",
    "    for i, (name, values) in enumerate(data.items()):\n",
    "        # The offset in x direction of that bar\n",
    "        x_offset = (i - n_bars / 2) * bar_width + bar_width / 2\n",
    "\n",
    "        # Draw a bar for every value of that type\n",
    "        for x, y in enumerate(values):\n",
    "            bar = ax.bar(x + x_offset, y, width=bar_width * single_width, color=colors[i % len(colors)])\n",
    "\n",
    "        # Add a handle to the last drawn bar, which we'll need for the legend\n",
    "        bars.append(bar[0])\n",
    "\n",
    "    # Draw legend if we need\n",
    "    if legend:\n",
    "        ax.legend(bars, ['JDK{}'.format(k) for k in data.keys()])"
   ]
  },
  {
   "cell_type": "markdown",
   "metadata": {},
   "source": [
    "### Node Size and Execution Time of Memoization Schemes\n",
    "\n",
    "Below we look at the distribution of the node size of the different memoisation schemes. Additionally, we look at the execution time of determining which nodes to memoize. "
   ]
  },
  {
   "cell_type": "code",
   "execution_count": 8,
   "metadata": {},
   "outputs": [
    {
     "data": {
      "image/png": "[encoded data removed]",
      "text/plain": [
       "<Figure size 576x432 with 1 Axes>"
      ]
     },
     "metadata": {},
     "output_type": "display_data"
    },
    {
     "data": {
      "image/png": "[encoded data removed]",
      "text/plain": [
       "<Figure size 576x432 with 1 Axes>"
      ]
     },
     "metadata": {},
     "output_type": "display_data"
    },
    {
     "data": {
      "image/png": "[encoded data removed]",
      "text/plain": [
       "<Figure size 576x432 with 1 Axes>"
      ]
     },
     "metadata": {},
     "output_type": "display_data"
    },
    {
     "data": {
      "image/png": "[encoded data removed]",
      "text/plain": [
       "<Figure size 576x432 with 1 Axes>"
      ]
     },
     "metadata": {},
     "output_type": "display_data"
    }
   ],
   "source": [
    "MemoizationScheme = namedtuple('MemoizationScheme', 'pivot indeg ancestor')\n",
    "\n",
    "def get_data_per_pattern(patterns, key):\n",
    "    result = MemoizationScheme([], [], [])\n",
    "    for p in patterns:\n",
    "        result.pivot.append(p['pivot'][key])\n",
    "        result.indeg.append(p['indeg'][key])\n",
    "        result.ancestor.append(p['ancestor'][key])\n",
    "    return result\n",
    "\n",
    "rns = get_data_per_pattern(regexlib_analysis['patterns'], 'num_states')\n",
    "pns = get_data_per_pattern(polyglot_analysis['patterns'], 'num_states')\n",
    "\n",
    "labels = ['Pivot', 'Indeg', 'Ancestor']\n",
    "fig, ax = plt.subplots(figsize=(8,6))\n",
    "boxplot(ax, [rns.pivot, rns.indeg, rns.ancestor], labels, 'Node Sizes of Memoization Schemes (RegExLib)', 'Memoization Scheme', 'Value', yscale='linear', showfliers=False)\n",
    "fig, ax = plt.subplots(figsize=(8,6))\n",
    "boxplot(ax, [pns.pivot, pns.indeg, pns.ancestor], labels, 'Node Sizes of Memoization Schemes (Polyglot)', 'Memoization Scheme', 'Value', yscale='linear', showfliers=False)\n",
    "\n",
    "ret = get_data_per_pattern(regexlib_analysis['patterns'], 'exec_time')\n",
    "pet = get_data_per_pattern(polyglot_analysis['patterns'], 'exec_time')\n",
    "\n",
    "labels = ['Pivot', 'Indeg', 'Ancestor']\n",
    "fig, ax = plt.subplots(figsize=(8,6))\n",
    "boxplot(ax, [ret.pivot, ret.indeg, ret.ancestor], labels, 'Execution Time of Memoization Schemes (RegExLib)', 'Memoization Scheme', 'Time (ms)', yscale='linear', showfliers=False)\n",
    "fig, ax = plt.subplots(figsize=(8,6))\n",
    "boxplot(ax, [pet.pivot, pet.indeg, pet.ancestor], labels, 'Execution Time of Memoization Schemes (Polyglot)', 'Memoization Scheme', 'Time (ms)', yscale='linear', showfliers=False)"
   ]
  },
  {
   "cell_type": "markdown",
   "metadata": {},
   "source": [
    "## OpenJDK benchmarks\n",
    "Below we look at the matching times of the Java regular expression matcher."
   ]
  },
  {
   "cell_type": "code",
   "execution_count": 49,
   "metadata": {
    "scrolled": true
   },
   "outputs": [
    {
     "name": "stdout",
     "output_type": "stream",
     "text": [
      "-- RegExLib --\n",
      "JDK8 0ms: 866/962 (90.02%)\n",
      "JDK8 >0ms: 4/962 (0.42%)\n",
      "JDK8 TIMEOUT: 92/962 (9.56%)\n",
      "===\n",
      "JDK9 0ms: 918/962 (95.43%)\n",
      "JDK9 >0ms: 29/962 (3.01%)\n",
      "JDK9 TIMEOUT: 15/962 (1.56%)\n",
      "===\n",
      "JDK11 0ms: 918/962 (95.43%)\n",
      "JDK11 >0ms: 29/962 (3.01%)\n",
      "JDK11 TIMEOUT: 15/962 (1.56%)\n",
      "===\n",
      "JDK11-modified 0ms: 923/962 (95.95%)\n",
      "JDK11-modified >0ms: 37/962 (3.85%)\n",
      "JDK11-modified TIMEOUT: 2/962 (0.21%)\n",
      "===\n",
      "\n",
      "-- Polyglot Corpus --\n",
      "JDK8 0ms: 0/2554 (0.00%)\n",
      "JDK8 >0ms: 1348/2554 (52.78%)\n",
      "JDK8 TIMEOUT: 1206/2554 (47.22%)\n",
      "===\n",
      "JDK9 0ms: 0/2554 (0.00%)\n",
      "JDK9 >0ms: 2403/2554 (94.09%)\n",
      "JDK9 TIMEOUT: 151/2554 (5.91%)\n",
      "===\n",
      "JDK11 0ms: 0/2554 (0.00%)\n",
      "JDK11 >0ms: 2403/2554 (94.09%)\n",
      "JDK11 TIMEOUT: 151/2554 (5.91%)\n",
      "===\n",
      "JDK11-modified 0ms: 0/2490 (0.00%)\n",
      "JDK11-modified >0ms: 2398/2490 (96.31%)\n",
      "JDK11-modified TIMEOUT: 92/2490 (3.69%)\n",
      "===\n",
      "\n"
     ]
    }
   ],
   "source": [
    "regexlib_jb = read_data(Path('{}/java_benchmarks.json'.format(REGEXLIB_SESS)))\n",
    "polyglot_jb = read_data(Path('{}/java_benchmarks.json'.format(POLYGLOT_SESS)))\n",
    "\n",
    "JDKVersions = namedtuple('JDKVersions', 'm_8 m_9 m_11 m_11_modified')\n",
    "\n",
    "def get_matching_times(dataset):\n",
    "    result = JDKVersions([], [], [], [])\n",
    "    result.m_11_modified.extend(list(map(lambda x: x['time'], dataset[0]['11-modified'])))\n",
    "    result.m_11.extend(list(map(lambda x: x['time'], dataset[1]['11'])))\n",
    "    result.m_9.extend(list(map(lambda x: x['time'], dataset[2]['9'])))\n",
    "    result.m_8.extend(list(map(lambda x: x['time'], dataset[3]['8'])))\n",
    "    return result\n",
    "\n",
    "regexlib_mt = get_matching_times(regexlib_jb)\n",
    "polyglot_mt = get_matching_times(polyglot_jb)\n",
    "\n",
    "def print_ratios(jdk_versions, dataset_name):\n",
    "    print('-- {} --'.format(dataset_name))\n",
    "    \n",
    "    def counts(data, version):\n",
    "        count = len(data)\n",
    "        c = sum(t == '0' for t in data)\n",
    "        print('{} 0ms: {}/{} ({:.2f}%)'.format(version, c, count, percentage(c, count)))\n",
    "        c = sum(t.isdigit() and np.int(t) > 0 for t in data)\n",
    "        print('{} >0ms: {}/{} ({:.2f}%)'.format(version, c, count, percentage(c, count)))\n",
    "        c = sum(t == 'timeout' for t in data)\n",
    "        print('{} TIMEOUT: {}/{} ({:.2f}%)'.format(version, c, count, percentage(c, count)))\n",
    "        print('===')\n",
    "    \n",
    "    counts(jdk_versions.m_8, 'JDK8')\n",
    "    counts(jdk_versions.m_9, 'JDK9')\n",
    "    counts(jdk_versions.m_11, 'JDK11')\n",
    "    counts(jdk_versions.m_11_modified, 'JDK11-modified')\n",
    "    print()\n",
    "\n",
    "print_ratios(regexlib_mt, 'RegExLib')\n",
    "print_ratios(polyglot_mt, 'Polyglot Corpus')"
   ]
  },
  {
   "cell_type": "markdown",
   "metadata": {},
   "source": [
    "### Transform Java Matching Times\n",
    "\n",
    "For the box plots we filter out 0ms matching times because it skews the data. We plot the y-axes at a linear and log scale."
   ]
  },
  {
   "cell_type": "code",
   "execution_count": 51,
   "metadata": {},
   "outputs": [
    {
     "data": {
      "image/png": "[encoded data removed]",
      "text/plain": [
       "<Figure size 864x576 with 1 Axes>"
      ]
     },
     "metadata": {},
     "output_type": "display_data"
    },
    {
     "data": {
      "image/png": "[encoded data removed]",
      "text/plain": [
       "<Figure size 864x576 with 1 Axes>"
      ]
     },
     "metadata": {},
     "output_type": "display_data"
    }
   ],
   "source": [
    "def transform(data):\n",
    "    func1 = lambda x: '5000' if x == 'timeout' else x\n",
    "    func2 = lambda x: x != '0'\n",
    "    return JDKVersions(\n",
    "        list(map(int, filter(func2, map(func1, data.m_8)))),\n",
    "        list(map(int, filter(func2, map(func1, data.m_9)))),\n",
    "        list(map(int, filter(func2, map(func1, data.m_11)))),\n",
    "        list(map(int, filter(func2, map(func1, data.m_11_modified)))),\n",
    "    )\n",
    "\n",
    "regexlib_mt = transform(regexlib_mt)\n",
    "polyglot_mt = transform(polyglot_mt)\n",
    "\n",
    "labels = ['JDK8', 'JDK9', 'JDK11', 'JDK11-modified']\n",
    "fig, ax = plt.subplots(figsize=(12,8))\n",
    "boxplot(ax, [regexlib_mt.m_8, regexlib_mt.m_9, regexlib_mt.m_11, regexlib_mt.m_11_modified], labels, 'Matching time of Java versions on RegExLib dataset (Log-log)', 'OpenJDK Version', 'Time (ms)', yscale='log', showfliers=False)\n",
    "fig, ax = plt.subplots(figsize=(12,8))\n",
    "boxplot(ax, [polyglot_mt.m_8, polyglot_mt.m_9, polyglot_mt.m_11, polyglot_mt.m_11_modified], labels, 'Matching time of Java versions on Polyglot Corpus (Log-log)', 'OpenJDK Version', 'Time (ms)', yscale='linear', showfliers=True)"
   ]
  },
  {
   "cell_type": "code",
   "execution_count": null,
   "metadata": {},
   "outputs": [],
   "source": [
    "x_data = {}\n",
    "\n",
    "for entry in regexlib_data:\n",
    "    for java_version, times in entry.items(): \n",
    "        if java_version not in x_data.keys(): x_data[java_version] = []\n",
    "        tmp = map(lambda s: int(s), filter(lambda t: t.isdigit(), times))\n",
    "        print('JDK{} max matching time: {} ms'.format(java_version, max(tmp)))\n",
    "        data = []\n",
    "        data.append(len(list(filter(lambda s: s.isdigit() and int(s) > 0 and int(s) <= 5, times))))\n",
    "        data.append(len(list(filter(lambda s: s.isdigit() and int(s) > 5 and int(s) <= 10, times))))\n",
    "        data.append(len(list(filter(lambda s: s.isdigit() and int(s) > 10 and int(s) <= 20, times))))\n",
    "        data.append(len(list(filter(lambda s: s.isdigit() and int(s) > 20 and int(s) <= 50, times))))\n",
    "        data.append(len(list(filter(lambda s: s.isdigit() and int(s) > 50 and int(s) <= 100, times))))\n",
    "        data.append(len(list(filter(lambda s: s.isdigit() and int(s) > 100, times))))\n",
    "        data.append(len(list(filter(lambda s: s == 'timeout', times))))\n",
    "        x_data[java_version] = np.array(data)"
   ]
  },
  {
   "cell_type": "code",
   "execution_count": null,
   "metadata": {},
   "outputs": [],
   "source": [
    "labels = ['0-5', '5-10', '10-20', '20-50', '50-100', '>100', 'Timeout']\n",
    "\n",
    "fig, ax = plt.subplots(figsize=(10, 8))\n",
    "\n",
    "bar_plot(ax, x_data, total_width=.8, single_width=.9)\n",
    "\n",
    "# Add some text for labels, title and custom x-axis tick labels, etc.\n",
    "ax.set_xlabel('Matching time (ms)')\n",
    "ax.set_ylabel('Number of Regexes')\n",
    "ax.set_title('Average matching time of OpenJDK regex versions on RegExLib dataset')\n",
    "ax.set_xticks(np.arange(len(labels)))\n",
    "ax.set_xticklabels(labels)\n",
    "\n",
    "plt.show()"
   ]
  },
  {
   "cell_type": "code",
   "execution_count": null,
   "metadata": {},
   "outputs": [],
   "source": [
    "data, xlabels = [], []\n",
    "for entry in regexlib_data:\n",
    "    for java_version, times in entry.items():\n",
    "        xlabels.append('JDK{}'.format(java_version))\n",
    "        times = list(filter(lambda t: t != '0', times))\n",
    "        data.append(list(map(lambda t: 6000 if t == 'timeout' else int(t), times)))"
   ]
  },
  {
   "cell_type": "code",
   "execution_count": null,
   "metadata": {},
   "outputs": [],
   "source": [
    "fig, axes = plt.subplots(figsize=(8,6))\n",
    "\n",
    "def plot(fig, ax, title: str, yscale='linear'):\n",
    "    # Creating plot \n",
    "    ax.boxplot(data) \n",
    "    \n",
    "    ax.set_xticks(np.arange(1, len(xlabels)+1))\n",
    "    ax.set_xticklabels(xlabels)\n",
    "\n",
    "    plt.ylabel('Matching time (ms)')\n",
    "    plt.yscale(yscale)\n",
    "    plt.title(title)\n",
    "    \n",
    "    fig.tight_layout()\n",
    "    plt.show() \n",
    "    \n",
    "plot(fig, axes, 'Matching time of Java versions on RegExLib dataset (Log-log)', 'log')"
   ]
  },
  {
   "cell_type": "code",
   "execution_count": null,
   "metadata": {},
   "outputs": [],
   "source": [
    "fig, axes = plt.subplots(figsize=(8,6))\n",
    "plot(fig, axes, 'Matching time of Java versions on RegExLib dataset (Linear)', 'linear')"
   ]
  }
 ],
 "metadata": {
  "kernelspec": {
   "display_name": "Python 3",
   "language": "python",
   "name": "python3"
  },
  "language_info": {
   "codemirror_mode": {
    "name": "ipython",
    "version": 3
   },
   "file_extension": ".py",
   "mimetype": "text/x-python",
   "name": "python",
   "nbconvert_exporter": "python",
   "pygments_lexer": "ipython3",
   "version": "3.6.5"
  }
 },
 "nbformat": 4,
 "nbformat_minor": 2
}
